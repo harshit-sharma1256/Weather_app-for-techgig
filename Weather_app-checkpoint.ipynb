{
 "cells": [
  {
   "cell_type": "code",
   "execution_count": 1,
   "id": "26dec889",
   "metadata": {},
   "outputs": [],
   "source": [
    "#Importing necessary libraries\n",
    "import requests\n",
    "import json\n",
    "import streamlit as st"
   ]
  },
  {
   "cell_type": "code",
   "execution_count": 2,
   "id": "1bb04f9d",
   "metadata": {},
   "outputs": [],
   "source": [
    "#Function for getting api key\n",
    "def get_api_key():\n",
    "    with open('config.txt', 'r') as file:\n",
    "        api_key = file.readline().strip()\n",
    "    return api_key"
   ]
  },
  {
   "cell_type": "code",
   "execution_count": 3,
   "id": "11c04f3c",
   "metadata": {},
   "outputs": [],
   "source": [
    "#Wrtting function for retrieve weather data for a specified city using the OpenWeatherMap API\n",
    "def get_weather_forecast(city):\n",
    "    api_key = get_api_key  # Getting your OpenWeatherMap API key\n",
    "    base_url = 'https://api.openweathermap.org/data/2.5/weather'\n",
    "    response = requests.get(base_url, params={'q': city, 'appid': api_key})\n",
    "\n",
    "    if response.status_code == 200:\n",
    "        weather_data = json.loads(response.text)  # Parsing the JSON response\n",
    "\n",
    "        return weather_data\n",
    "    else:\n",
    "        print('Please enter a valid city name.')  # Error handling for failed API request\n",
    "        return None"
   ]
  },
  {
   "cell_type": "code",
   "execution_count": 4,
   "id": "eb381a90",
   "metadata": {},
   "outputs": [],
   "source": [
    "#Function for conversion of temperature from k to c\n",
    "def convert_kelvin_to_celsius(temperature_kelvin):\n",
    "    return temperature_kelvin - 273.15  # Conversion formula from Kelvin to Celsius\n"
   ]
  },
  {
   "cell_type": "code",
   "execution_count": 5,
   "id": "b250432d",
   "metadata": {},
   "outputs": [],
   "source": [
    "#Function for display the weather forcast of the city\n",
    "def display_weather_forecast(weather_data):\n",
    "    if weather_data:\n",
    "        city_name = weather_data['name']\n",
    "        weather_main = weather_data['weather'][0]['main']\n",
    "        weather_description = weather_data['weather'][0]['description']\n",
    "        temperature = convert_kelvin_to_celsius(weather_data['main']['temp'])  # Converting temperature from Kelvin to Celsius\n",
    "        humidity = weather_data['main']['humidity']\n",
    "        wind_speed = weather_data['wind']['speed']\n",
    "\n",
    "        st.write(f'Weather forecast for {city_name}:')\n",
    "        st.write(f'  - Main weather: {weather_main}')\n",
    "        st.write(f'  - Description: {weather_description}')\n",
    "        st.write(f'  - Temperature: {temperature:.2f}°C')  # Display temperature with two decimal places\n",
    "        st.write(f'  - Humidity: {humidity}%')\n",
    "        st.write(f'  - Wind speed: {wind_speed} m/s')\n",
    "    else:\n",
    "        st.error('No weather data available.')  # Error handling for missing weather data\n",
    "\n",
    "\n",
    "\n"
   ]
  },
  {
   "cell_type": "code",
   "execution_count": 6,
   "id": "add9e6b0",
   "metadata": {},
   "outputs": [
    {
     "name": "stderr",
     "output_type": "stream",
     "text": [
      "2023-05-31 15:43:56.712 \n",
      "  \u001b[33m\u001b[1mWarning:\u001b[0m to view this Streamlit app on a browser, run it with the following\n",
      "  command:\n",
      "\n",
      "    streamlit run C:\\Users\\HP Pavilion\\anaconda3\\lib\\site-packages\\ipykernel_launcher.py [ARGUMENTS]\n"
     ]
    }
   ],
   "source": [
    "#Main function\n",
    "def main():\n",
    "    st.title('Weather Forecast Tool')  # Set the title of the web application\n",
    "\n",
    "    try:\n",
    "        city_name = st.text_input('Enter the name of a city')  # Create a text input field to enter the city name\n",
    "        if st.button('Get Weather Forecast'):  # Create a button to trigger weather forecast retrieval\n",
    "            weather_data = get_weather_forecast(city_name)  # Get the weather forecast data for the entered city\n",
    "            display_weather_forecast(weather_data)  # Display the weather forecast\n",
    "\n",
    "    except ValueError:\n",
    "        st.error('Please enter a valid city name.')  # Error handling for incorrect city name\n",
    "\n",
    "\n",
    "if __name__ == '__main__':\n",
    "    main()"
   ]
  },
  {
   "cell_type": "code",
   "execution_count": null,
   "id": "868d5124",
   "metadata": {},
   "outputs": [],
   "source": []
  }
 ],
 "metadata": {
  "kernelspec": {
   "display_name": "Python 3 (ipykernel)",
   "language": "python",
   "name": "python3"
  },
  "language_info": {
   "codemirror_mode": {
    "name": "ipython",
    "version": 3
   },
   "file_extension": ".py",
   "mimetype": "text/x-python",
   "name": "python",
   "nbconvert_exporter": "python",
   "pygments_lexer": "ipython3",
   "version": "3.9.13"
  }
 },
 "nbformat": 4,
 "nbformat_minor": 5
}
